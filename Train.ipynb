{
  "cells": [
    {
      "cell_type": "markdown",
      "metadata": {
        "id": "view-in-github",
        "colab_type": "text"
      },
      "source": [
        "<a href=\"https://colab.research.google.com/github/AmmuluPanikara/Glacial-Guardian-Satellite-Image-Iceberg-Detection/blob/main/Train.ipynb\" target=\"_parent\"><img src=\"https://colab.research.google.com/assets/colab-badge.svg\" alt=\"Open In Colab\"/></a>"
      ]
    },
    {
      "cell_type": "code",
      "execution_count": null,
      "metadata": {
        "id": "CXLVshdMDce7"
      },
      "outputs": [],
      "source": [
        "from tensorflow.keras.preprocessing.image import ImageDataGenerator\n",
        "from tensorflow.keras.models import Sequential\n",
        "import tensorflow\n",
        "from tensorflow.keras.layers import Conv2D, MaxPooling2D, Dense, Dropout, Flatten"
      ]
    },
    {
      "cell_type": "code",
      "execution_count": null,
      "metadata": {
        "id": "uCeVYrYqD0i3"
      },
      "outputs": [],
      "source": [
        "from tensorflow.keras.preprocessing.image import ImageDataGenerator\n",
        "train_datagen = ImageDataGenerator(rescale = 1./255,\n",
        "                                   shear_range = 0.2,\n",
        "                                   zoom_range = 0.2,\n",
        "                                   horizontal_flip = True)\n",
        "\n",
        "test_datagen = ImageDataGenerator(rescale = 1./255)"
      ]
    },
    {
      "cell_type": "code",
      "execution_count": 14,
      "metadata": {
        "colab": {
          "base_uri": "https://localhost:8080/",
          "height": 373
        },
        "id": "cejhbBLqECCD",
        "outputId": "2545bbd1-5e4e-4a94-bd88-e790dfc8cd8e"
      },
      "outputs": [
        {
          "output_type": "error",
          "ename": "FileNotFoundError",
          "evalue": "[Errno 2] No such file or directory: '/content/drive/MyDrive/SI-GuidedProject-49403-1652770998/dataset/train'",
          "traceback": [
            "\u001b[0;31m---------------------------------------------------------------------------\u001b[0m",
            "\u001b[0;31mFileNotFoundError\u001b[0m                         Traceback (most recent call last)",
            "\u001b[0;32m<ipython-input-14-d0e22bd9a232>\u001b[0m in \u001b[0;36m<cell line: 0>\u001b[0;34m()\u001b[0m\n\u001b[1;32m      4\u001b[0m \u001b[0mtest_datagen\u001b[0m \u001b[0;34m=\u001b[0m \u001b[0mImageDataGenerator\u001b[0m\u001b[0;34m(\u001b[0m\u001b[0mrescale\u001b[0m\u001b[0;34m=\u001b[0m\u001b[0;36m1.\u001b[0m\u001b[0;34m/\u001b[0m\u001b[0;36m255\u001b[0m\u001b[0;34m)\u001b[0m\u001b[0;34m\u001b[0m\u001b[0;34m\u001b[0m\u001b[0m\n\u001b[1;32m      5\u001b[0m \u001b[0;34m\u001b[0m\u001b[0m\n\u001b[0;32m----> 6\u001b[0;31m x_train = train_datagen.flow_from_directory(\n\u001b[0m\u001b[1;32m      7\u001b[0m     \u001b[0;34m\"/content/drive/MyDrive/SI-GuidedProject-49403-1652770998/dataset/train\"\u001b[0m\u001b[0;34m,\u001b[0m\u001b[0;34m\u001b[0m\u001b[0;34m\u001b[0m\u001b[0m\n\u001b[1;32m      8\u001b[0m     \u001b[0mtarget_size\u001b[0m\u001b[0;34m=\u001b[0m\u001b[0;34m(\u001b[0m\u001b[0;36m128\u001b[0m\u001b[0;34m,\u001b[0m \u001b[0;36m128\u001b[0m\u001b[0;34m)\u001b[0m\u001b[0;34m,\u001b[0m\u001b[0;34m\u001b[0m\u001b[0;34m\u001b[0m\u001b[0m\n",
            "\u001b[0;32m/usr/local/lib/python3.11/dist-packages/keras/src/legacy/preprocessing/image.py\u001b[0m in \u001b[0;36mflow_from_directory\u001b[0;34m(self, directory, target_size, color_mode, classes, class_mode, batch_size, shuffle, seed, save_to_dir, save_prefix, save_format, follow_links, subset, interpolation, keep_aspect_ratio)\u001b[0m\n\u001b[1;32m   1136\u001b[0m         \u001b[0mkeep_aspect_ratio\u001b[0m\u001b[0;34m=\u001b[0m\u001b[0;32mFalse\u001b[0m\u001b[0;34m,\u001b[0m\u001b[0;34m\u001b[0m\u001b[0;34m\u001b[0m\u001b[0m\n\u001b[1;32m   1137\u001b[0m     ):\n\u001b[0;32m-> 1138\u001b[0;31m         return DirectoryIterator(\n\u001b[0m\u001b[1;32m   1139\u001b[0m             \u001b[0mdirectory\u001b[0m\u001b[0;34m,\u001b[0m\u001b[0;34m\u001b[0m\u001b[0;34m\u001b[0m\u001b[0m\n\u001b[1;32m   1140\u001b[0m             \u001b[0mself\u001b[0m\u001b[0;34m,\u001b[0m\u001b[0;34m\u001b[0m\u001b[0;34m\u001b[0m\u001b[0m\n",
            "\u001b[0;32m/usr/local/lib/python3.11/dist-packages/keras/src/legacy/preprocessing/image.py\u001b[0m in \u001b[0;36m__init__\u001b[0;34m(self, directory, image_data_generator, target_size, color_mode, classes, class_mode, batch_size, shuffle, seed, data_format, save_to_dir, save_prefix, save_format, follow_links, subset, interpolation, keep_aspect_ratio, dtype)\u001b[0m\n\u001b[1;32m    451\u001b[0m         \u001b[0;32mif\u001b[0m \u001b[0;32mnot\u001b[0m \u001b[0mclasses\u001b[0m\u001b[0;34m:\u001b[0m\u001b[0;34m\u001b[0m\u001b[0;34m\u001b[0m\u001b[0m\n\u001b[1;32m    452\u001b[0m             \u001b[0mclasses\u001b[0m \u001b[0;34m=\u001b[0m \u001b[0;34m[\u001b[0m\u001b[0;34m]\u001b[0m\u001b[0;34m\u001b[0m\u001b[0;34m\u001b[0m\u001b[0m\n\u001b[0;32m--> 453\u001b[0;31m             \u001b[0;32mfor\u001b[0m \u001b[0msubdir\u001b[0m \u001b[0;32min\u001b[0m \u001b[0msorted\u001b[0m\u001b[0;34m(\u001b[0m\u001b[0mos\u001b[0m\u001b[0;34m.\u001b[0m\u001b[0mlistdir\u001b[0m\u001b[0;34m(\u001b[0m\u001b[0mdirectory\u001b[0m\u001b[0;34m)\u001b[0m\u001b[0;34m)\u001b[0m\u001b[0;34m:\u001b[0m\u001b[0;34m\u001b[0m\u001b[0;34m\u001b[0m\u001b[0m\n\u001b[0m\u001b[1;32m    454\u001b[0m                 \u001b[0;32mif\u001b[0m \u001b[0mos\u001b[0m\u001b[0;34m.\u001b[0m\u001b[0mpath\u001b[0m\u001b[0;34m.\u001b[0m\u001b[0misdir\u001b[0m\u001b[0;34m(\u001b[0m\u001b[0mos\u001b[0m\u001b[0;34m.\u001b[0m\u001b[0mpath\u001b[0m\u001b[0;34m.\u001b[0m\u001b[0mjoin\u001b[0m\u001b[0;34m(\u001b[0m\u001b[0mdirectory\u001b[0m\u001b[0;34m,\u001b[0m \u001b[0msubdir\u001b[0m\u001b[0;34m)\u001b[0m\u001b[0;34m)\u001b[0m\u001b[0;34m:\u001b[0m\u001b[0;34m\u001b[0m\u001b[0;34m\u001b[0m\u001b[0m\n\u001b[1;32m    455\u001b[0m                     \u001b[0mclasses\u001b[0m\u001b[0;34m.\u001b[0m\u001b[0mappend\u001b[0m\u001b[0;34m(\u001b[0m\u001b[0msubdir\u001b[0m\u001b[0;34m)\u001b[0m\u001b[0;34m\u001b[0m\u001b[0;34m\u001b[0m\u001b[0m\n",
            "\u001b[0;31mFileNotFoundError\u001b[0m: [Errno 2] No such file or directory: '/content/drive/MyDrive/SI-GuidedProject-49403-1652770998/dataset/train'"
          ]
        }
      ],
      "source": [
        "from tensorflow.keras.preprocessing.image import ImageDataGenerator\n",
        "\n",
        "train_datagen = ImageDataGenerator(rescale=1./255)\n",
        "test_datagen = ImageDataGenerator(rescale=1./255)\n",
        "\n",
        "x_train = train_datagen.flow_from_directory(\n",
        "    \"/content/drive/MyDrive/SI-GuidedProject-49403-1652770998/dataset/train\",\n",
        "    target_size=(128, 128),\n",
        "    batch_size=4,\n",
        "    class_mode='binary'\n",
        ")\n",
        "\n",
        "x_test = test_datagen.flow_from_directory(\n",
        "    \"/content/drive/MyDrive/SI-GuidedProject-49403-1652770998/dataset/test\",\n",
        "    target_size=(128, 128),\n",
        "    batch_size=4,\n",
        "    class_mode='binary'\n",
        ")\n"
      ]
    },
    {
      "cell_type": "code",
      "source": [],
      "metadata": {
        "id": "B-P-N9E7HhJk"
      },
      "execution_count": null,
      "outputs": []
    },
    {
      "cell_type": "code",
      "execution_count": null,
      "metadata": {
        "id": "c5kIX_wbEE4B"
      },
      "outputs": [],
      "source": [
        "model =Sequential()\n",
        "\n",
        "# Convolutional layer and maxpool layer 1\n",
        "model.add(Conv2D(512,(3,3),activation='relu',input_shape=(128,128,3)))\n",
        "model.add(MaxPooling2D(2,2))\n",
        "\n",
        "# Convolutional layer and maxpool layer 2\n",
        "model.add(Conv2D(512,(3,3),activation='relu'))\n",
        "model.add(MaxPooling2D(2,2))\n",
        "\n",
        "# Convolutional layer and maxpool layer 3\n",
        "model.add(Conv2D(256,(3,3),activation='relu'))\n",
        "model.add(MaxPooling2D(2,2))\n",
        "\n",
        "# Convolutional layer and maxpool layer 4\n",
        "model.add(Conv2D(128,(3,3),activation='relu'))\n",
        "model.add(MaxPooling2D(2,2))\n",
        "\n",
        "# This layer flattens the resulting image array to 1D array\n",
        "model.add(Flatten())\n",
        "\n",
        "# Hidden layer with 512 neurons and Rectified Linear Unit activation function\n",
        "model.add(Dense(512,activation='relu'))\n",
        "model.add(Dropout(0.5))\n",
        "# Output layer with single neuron which gives 0 for Cat or 1 for Dog\n",
        "#Here we use sigmoid activation function which makes our model output to lie between 0 and 1\n",
        "model.add(Dense(1,activation='sigmoid'))\n",
        "model.compile(optimizer='adam',loss='binary_crossentropy',metrics=['accuracy'])"
      ]
    },
    {
      "cell_type": "code",
      "source": [
        "model.summary()"
      ],
      "metadata": {
        "colab": {
          "base_uri": "https://localhost:8080/"
        },
        "id": "8jnKHEznlrLP",
        "outputId": "39ac251c-ee79-4a69-9d66-d0eafe410a38"
      },
      "execution_count": null,
      "outputs": [
        {
          "output_type": "stream",
          "name": "stdout",
          "text": [
            "Model: \"sequential_24\"\n",
            "_________________________________________________________________\n",
            " Layer (type)                Output Shape              Param #   \n",
            "=================================================================\n",
            " conv2d_71 (Conv2D)          (None, 126, 126, 512)     14336     \n",
            "                                                                 \n",
            " max_pooling2d_71 (MaxPoolin  (None, 63, 63, 512)      0         \n",
            " g2D)                                                            \n",
            "                                                                 \n",
            " conv2d_72 (Conv2D)          (None, 61, 61, 512)       2359808   \n",
            "                                                                 \n",
            " max_pooling2d_72 (MaxPoolin  (None, 30, 30, 512)      0         \n",
            " g2D)                                                            \n",
            "                                                                 \n",
            " conv2d_73 (Conv2D)          (None, 28, 28, 256)       1179904   \n",
            "                                                                 \n",
            " max_pooling2d_73 (MaxPoolin  (None, 14, 14, 256)      0         \n",
            " g2D)                                                            \n",
            "                                                                 \n",
            " conv2d_74 (Conv2D)          (None, 12, 12, 128)       295040    \n",
            "                                                                 \n",
            " max_pooling2d_74 (MaxPoolin  (None, 6, 6, 128)        0         \n",
            " g2D)                                                            \n",
            "                                                                 \n",
            " flatten_19 (Flatten)        (None, 4608)              0         \n",
            "                                                                 \n",
            " dense_41 (Dense)            (None, 512)               2359808   \n",
            "                                                                 \n",
            " dropout_16 (Dropout)        (None, 512)               0         \n",
            "                                                                 \n",
            " dense_42 (Dense)            (None, 1)                 513       \n",
            "                                                                 \n",
            "=================================================================\n",
            "Total params: 6,209,409\n",
            "Trainable params: 6,209,409\n",
            "Non-trainable params: 0\n",
            "_________________________________________________________________\n"
          ]
        }
      ]
    },
    {
      "cell_type": "code",
      "execution_count": null,
      "metadata": {
        "colab": {
          "base_uri": "https://localhost:8080/"
        },
        "id": "oNmHw--ZEWFn",
        "outputId": "0a29521c-fc62-4d55-84ef-9e08b1ab6fcb"
      },
      "outputs": [
        {
          "output_type": "stream",
          "name": "stdout",
          "text": [
            "Epoch 1/40\n",
            "321/321 [==============================] - 17s 52ms/step - loss: 0.6940 - accuracy: 0.5514 - val_loss: 0.7119 - val_accuracy: 0.5000\n",
            "Epoch 2/40\n",
            "321/321 [==============================] - 17s 52ms/step - loss: 0.6930 - accuracy: 0.5327 - val_loss: 0.6920 - val_accuracy: 0.5000\n",
            "Epoch 3/40\n",
            "321/321 [==============================] - 17s 52ms/step - loss: 0.6768 - accuracy: 0.5382 - val_loss: 0.6528 - val_accuracy: 0.4938\n",
            "Epoch 4/40\n",
            "321/321 [==============================] - 17s 51ms/step - loss: 0.6337 - accuracy: 0.5701 - val_loss: 0.6113 - val_accuracy: 0.6875\n",
            "Epoch 5/40\n",
            "321/321 [==============================] - 16s 51ms/step - loss: 0.6157 - accuracy: 0.6199 - val_loss: 0.6926 - val_accuracy: 0.5188\n",
            "Epoch 6/40\n",
            "321/321 [==============================] - 16s 51ms/step - loss: 0.5836 - accuracy: 0.6651 - val_loss: 0.5302 - val_accuracy: 0.7250\n",
            "Epoch 7/40\n",
            "321/321 [==============================] - 17s 52ms/step - loss: 0.5992 - accuracy: 0.6830 - val_loss: 0.5385 - val_accuracy: 0.7063\n",
            "Epoch 8/40\n",
            "321/321 [==============================] - 17s 51ms/step - loss: 0.5692 - accuracy: 0.7009 - val_loss: 0.5258 - val_accuracy: 0.7344\n",
            "Epoch 9/40\n",
            "321/321 [==============================] - 17s 51ms/step - loss: 0.5455 - accuracy: 0.7165 - val_loss: 0.5041 - val_accuracy: 0.7406\n",
            "Epoch 10/40\n",
            "321/321 [==============================] - 16s 51ms/step - loss: 0.5240 - accuracy: 0.7227 - val_loss: 0.5723 - val_accuracy: 0.7031\n",
            "Epoch 11/40\n",
            "321/321 [==============================] - 16s 51ms/step - loss: 0.5067 - accuracy: 0.7329 - val_loss: 0.4951 - val_accuracy: 0.7625\n",
            "Epoch 12/40\n",
            "321/321 [==============================] - 17s 51ms/step - loss: 0.4961 - accuracy: 0.7430 - val_loss: 0.5431 - val_accuracy: 0.7406\n",
            "Epoch 13/40\n",
            "321/321 [==============================] - 17s 51ms/step - loss: 0.5027 - accuracy: 0.7492 - val_loss: 0.5109 - val_accuracy: 0.7563\n",
            "Epoch 14/40\n",
            "321/321 [==============================] - 16s 51ms/step - loss: 0.4822 - accuracy: 0.7601 - val_loss: 0.4931 - val_accuracy: 0.7656\n",
            "Epoch 15/40\n",
            "321/321 [==============================] - 17s 51ms/step - loss: 0.4729 - accuracy: 0.7734 - val_loss: 0.5276 - val_accuracy: 0.7531\n",
            "Epoch 16/40\n",
            "321/321 [==============================] - 17s 51ms/step - loss: 0.4705 - accuracy: 0.7695 - val_loss: 0.4708 - val_accuracy: 0.7906\n",
            "Epoch 17/40\n",
            "321/321 [==============================] - 16s 51ms/step - loss: 0.4593 - accuracy: 0.7835 - val_loss: 0.5019 - val_accuracy: 0.7781\n",
            "Epoch 18/40\n",
            "321/321 [==============================] - 16s 51ms/step - loss: 0.4657 - accuracy: 0.7765 - val_loss: 0.4653 - val_accuracy: 0.7937\n",
            "Epoch 19/40\n",
            "321/321 [==============================] - 16s 51ms/step - loss: 0.4518 - accuracy: 0.7952 - val_loss: 0.4703 - val_accuracy: 0.7812\n",
            "Epoch 20/40\n",
            "321/321 [==============================] - 17s 51ms/step - loss: 0.4704 - accuracy: 0.7765 - val_loss: 0.4849 - val_accuracy: 0.7844\n",
            "Epoch 21/40\n",
            "321/321 [==============================] - 17s 51ms/step - loss: 0.4523 - accuracy: 0.7866 - val_loss: 0.4600 - val_accuracy: 0.8000\n",
            "Epoch 22/40\n",
            "321/321 [==============================] - 17s 51ms/step - loss: 0.4412 - accuracy: 0.7897 - val_loss: 0.5033 - val_accuracy: 0.7812\n",
            "Epoch 23/40\n",
            "321/321 [==============================] - 16s 51ms/step - loss: 0.4544 - accuracy: 0.7858 - val_loss: 0.4669 - val_accuracy: 0.8094\n",
            "Epoch 24/40\n",
            "321/321 [==============================] - 16s 51ms/step - loss: 0.4359 - accuracy: 0.8006 - val_loss: 0.4635 - val_accuracy: 0.8062\n",
            "Epoch 25/40\n",
            "321/321 [==============================] - 16s 51ms/step - loss: 0.4448 - accuracy: 0.7975 - val_loss: 0.4391 - val_accuracy: 0.8094\n",
            "Epoch 26/40\n",
            "321/321 [==============================] - 16s 51ms/step - loss: 0.4277 - accuracy: 0.8061 - val_loss: 0.4863 - val_accuracy: 0.7875\n",
            "Epoch 27/40\n",
            "321/321 [==============================] - 17s 51ms/step - loss: 0.4243 - accuracy: 0.8037 - val_loss: 0.4359 - val_accuracy: 0.8188\n",
            "Epoch 28/40\n",
            "321/321 [==============================] - 17s 51ms/step - loss: 0.4297 - accuracy: 0.7998 - val_loss: 0.4525 - val_accuracy: 0.8062\n",
            "Epoch 29/40\n",
            "321/321 [==============================] - 17s 51ms/step - loss: 0.4228 - accuracy: 0.8115 - val_loss: 0.4168 - val_accuracy: 0.8313\n",
            "Epoch 30/40\n",
            "321/321 [==============================] - 17s 51ms/step - loss: 0.4226 - accuracy: 0.8069 - val_loss: 0.4278 - val_accuracy: 0.8188\n",
            "Epoch 31/40\n",
            "321/321 [==============================] - 16s 51ms/step - loss: 0.4206 - accuracy: 0.8037 - val_loss: 0.4461 - val_accuracy: 0.8094\n",
            "Epoch 32/40\n",
            "321/321 [==============================] - 17s 51ms/step - loss: 0.4170 - accuracy: 0.8131 - val_loss: 0.4356 - val_accuracy: 0.8062\n",
            "Epoch 33/40\n",
            "321/321 [==============================] - 17s 51ms/step - loss: 0.4055 - accuracy: 0.8107 - val_loss: 0.5041 - val_accuracy: 0.7937\n",
            "Epoch 34/40\n",
            "321/321 [==============================] - 17s 52ms/step - loss: 0.4146 - accuracy: 0.7960 - val_loss: 0.4345 - val_accuracy: 0.8250\n",
            "Epoch 35/40\n",
            "321/321 [==============================] - 16s 51ms/step - loss: 0.4314 - accuracy: 0.8014 - val_loss: 0.5056 - val_accuracy: 0.7969\n",
            "Epoch 36/40\n",
            "321/321 [==============================] - 17s 51ms/step - loss: 0.4369 - accuracy: 0.7983 - val_loss: 0.4390 - val_accuracy: 0.7937\n",
            "Epoch 37/40\n",
            "321/321 [==============================] - 17s 51ms/step - loss: 0.4354 - accuracy: 0.7998 - val_loss: 0.4166 - val_accuracy: 0.8000\n",
            "Epoch 38/40\n",
            "321/321 [==============================] - 17s 51ms/step - loss: 0.4205 - accuracy: 0.7998 - val_loss: 0.4583 - val_accuracy: 0.8094\n",
            "Epoch 39/40\n",
            "321/321 [==============================] - 17s 52ms/step - loss: 0.4134 - accuracy: 0.8100 - val_loss: 0.3954 - val_accuracy: 0.8219\n",
            "Epoch 40/40\n",
            "321/321 [==============================] - 17s 52ms/step - loss: 0.4036 - accuracy: 0.8022 - val_loss: 0.4170 - val_accuracy: 0.8188\n"
          ]
        },
        {
          "output_type": "execute_result",
          "data": {
            "text/plain": [
              "<keras.callbacks.History at 0x7fccf92dd1d0>"
            ]
          },
          "metadata": {},
          "execution_count": 69
        }
      ],
      "source": [
        "model.fit(x_train,  epochs=40, validation_data=x_test)"
      ]
    },
    {
      "cell_type": "code",
      "execution_count": null,
      "metadata": {
        "id": "bxocz4qTGaz8"
      },
      "outputs": [],
      "source": [
        "model.save(\"/content/drive/MyDrive/SI-GuidedProject-49403-1652770998/iceberg.h5\")"
      ]
    },
    {
      "cell_type": "code",
      "source": [
        "# @title Default title text\n",
        "from google.colab import drive\n",
        "drive.mount('/content/drive')\n"
      ],
      "metadata": {
        "id": "TVYrgh7a-6yU",
        "outputId": "1d9db251-197a-4b48-afc5-9a49c7b765fa",
        "colab": {
          "base_uri": "https://localhost:8080/"
        }
      },
      "execution_count": 9,
      "outputs": [
        {
          "output_type": "stream",
          "name": "stdout",
          "text": [
            "Mounted at /content/drive\n"
          ]
        }
      ]
    },
    {
      "cell_type": "code",
      "source": [
        "import os\n",
        "\n",
        "path = \"/content/drive/MyDrive/\"\n",
        "for root, dirs, files in os.walk(path):\n",
        "    print(root)\n",
        "    if 'train' in dirs and 'test' in dirs:\n",
        "        print(\"✅ Found dataset path:\", root)\n"
      ],
      "metadata": {
        "id": "XQRkKduQHU6i",
        "outputId": "c5e5f17f-03e9-420e-9f10-bc5d000ac2c9",
        "colab": {
          "base_uri": "https://localhost:8080/"
        }
      },
      "execution_count": 11,
      "outputs": [
        {
          "output_type": "stream",
          "name": "stdout",
          "text": [
            "/content/drive/MyDrive/\n",
            "/content/drive/MyDrive/Certificates\n",
            "/content/drive/MyDrive/Colab Notebooks\n",
            "/content/drive/MyDrive/SI-GuidedProject-49403-1652770998-main\n",
            "/content/drive/MyDrive/SI-GuidedProject-49403-1652770998-main/dataset\n",
            "✅ Found dataset path: /content/drive/MyDrive/SI-GuidedProject-49403-1652770998-main/dataset\n",
            "/content/drive/MyDrive/SI-GuidedProject-49403-1652770998-main/dataset/test\n",
            "/content/drive/MyDrive/SI-GuidedProject-49403-1652770998-main/dataset/test/Ship\n",
            "/content/drive/MyDrive/SI-GuidedProject-49403-1652770998-main/dataset/test/Iceberg\n",
            "/content/drive/MyDrive/SI-GuidedProject-49403-1652770998-main/dataset/train\n",
            "/content/drive/MyDrive/SI-GuidedProject-49403-1652770998-main/dataset/train/Iceberg\n",
            "/content/drive/MyDrive/SI-GuidedProject-49403-1652770998-main/dataset/train/Ship\n",
            "/content/drive/MyDrive/SI-GuidedProject-49403-1652770998-main/Flask\n",
            "/content/drive/MyDrive/SI-GuidedProject-49403-1652770998-main/Flask/__pycache__\n",
            "/content/drive/MyDrive/SI-GuidedProject-49403-1652770998-main/Flask/static\n",
            "/content/drive/MyDrive/SI-GuidedProject-49403-1652770998-main/Flask/static/images\n",
            "/content/drive/MyDrive/SI-GuidedProject-49403-1652770998-main/Flask/templates\n"
          ]
        }
      ]
    },
    {
      "cell_type": "code",
      "source": [
        "from tensorflow.keras.preprocessing.image import ImageDataGenerator\n",
        "\n",
        "train_datagen = ImageDataGenerator(rescale=1./255)\n",
        "test_datagen = ImageDataGenerator(rescale=1./255)\n",
        "\n",
        "x_train = train_datagen.flow_from_directory(\n",
        "    \"/content/drive/MyDrive/SI-GuidedProject-49403-1652770998/dataset/train\",\n",
        "    target_size=(128, 128),\n",
        "    batch_size=4,\n",
        "    class_mode='binary'\n",
        ")\n",
        "\n",
        "x_test = test_datagen.flow_from_directory(\n",
        "    \"/content/drive/MyDrive/SI-GuidedProject-49403-1652770998/dataset/test\",\n",
        "    target_size=(128, 128),\n",
        "    batch_size=4,\n",
        "    class_mode='binary'\n",
        ")\n"
      ],
      "metadata": {
        "id": "I0dT8lC_Hm6n",
        "outputId": "d09063ea-c0a3-4c28-cab4-9218919aab9e",
        "colab": {
          "base_uri": "https://localhost:8080/",
          "height": 373
        }
      },
      "execution_count": 15,
      "outputs": [
        {
          "output_type": "error",
          "ename": "FileNotFoundError",
          "evalue": "[Errno 2] No such file or directory: '/content/drive/MyDrive/SI-GuidedProject-49403-1652770998/dataset/train'",
          "traceback": [
            "\u001b[0;31m---------------------------------------------------------------------------\u001b[0m",
            "\u001b[0;31mFileNotFoundError\u001b[0m                         Traceback (most recent call last)",
            "\u001b[0;32m<ipython-input-15-d0e22bd9a232>\u001b[0m in \u001b[0;36m<cell line: 0>\u001b[0;34m()\u001b[0m\n\u001b[1;32m      4\u001b[0m \u001b[0mtest_datagen\u001b[0m \u001b[0;34m=\u001b[0m \u001b[0mImageDataGenerator\u001b[0m\u001b[0;34m(\u001b[0m\u001b[0mrescale\u001b[0m\u001b[0;34m=\u001b[0m\u001b[0;36m1.\u001b[0m\u001b[0;34m/\u001b[0m\u001b[0;36m255\u001b[0m\u001b[0;34m)\u001b[0m\u001b[0;34m\u001b[0m\u001b[0;34m\u001b[0m\u001b[0m\n\u001b[1;32m      5\u001b[0m \u001b[0;34m\u001b[0m\u001b[0m\n\u001b[0;32m----> 6\u001b[0;31m x_train = train_datagen.flow_from_directory(\n\u001b[0m\u001b[1;32m      7\u001b[0m     \u001b[0;34m\"/content/drive/MyDrive/SI-GuidedProject-49403-1652770998/dataset/train\"\u001b[0m\u001b[0;34m,\u001b[0m\u001b[0;34m\u001b[0m\u001b[0;34m\u001b[0m\u001b[0m\n\u001b[1;32m      8\u001b[0m     \u001b[0mtarget_size\u001b[0m\u001b[0;34m=\u001b[0m\u001b[0;34m(\u001b[0m\u001b[0;36m128\u001b[0m\u001b[0;34m,\u001b[0m \u001b[0;36m128\u001b[0m\u001b[0;34m)\u001b[0m\u001b[0;34m,\u001b[0m\u001b[0;34m\u001b[0m\u001b[0;34m\u001b[0m\u001b[0m\n",
            "\u001b[0;32m/usr/local/lib/python3.11/dist-packages/keras/src/legacy/preprocessing/image.py\u001b[0m in \u001b[0;36mflow_from_directory\u001b[0;34m(self, directory, target_size, color_mode, classes, class_mode, batch_size, shuffle, seed, save_to_dir, save_prefix, save_format, follow_links, subset, interpolation, keep_aspect_ratio)\u001b[0m\n\u001b[1;32m   1136\u001b[0m         \u001b[0mkeep_aspect_ratio\u001b[0m\u001b[0;34m=\u001b[0m\u001b[0;32mFalse\u001b[0m\u001b[0;34m,\u001b[0m\u001b[0;34m\u001b[0m\u001b[0;34m\u001b[0m\u001b[0m\n\u001b[1;32m   1137\u001b[0m     ):\n\u001b[0;32m-> 1138\u001b[0;31m         return DirectoryIterator(\n\u001b[0m\u001b[1;32m   1139\u001b[0m             \u001b[0mdirectory\u001b[0m\u001b[0;34m,\u001b[0m\u001b[0;34m\u001b[0m\u001b[0;34m\u001b[0m\u001b[0m\n\u001b[1;32m   1140\u001b[0m             \u001b[0mself\u001b[0m\u001b[0;34m,\u001b[0m\u001b[0;34m\u001b[0m\u001b[0;34m\u001b[0m\u001b[0m\n",
            "\u001b[0;32m/usr/local/lib/python3.11/dist-packages/keras/src/legacy/preprocessing/image.py\u001b[0m in \u001b[0;36m__init__\u001b[0;34m(self, directory, image_data_generator, target_size, color_mode, classes, class_mode, batch_size, shuffle, seed, data_format, save_to_dir, save_prefix, save_format, follow_links, subset, interpolation, keep_aspect_ratio, dtype)\u001b[0m\n\u001b[1;32m    451\u001b[0m         \u001b[0;32mif\u001b[0m \u001b[0;32mnot\u001b[0m \u001b[0mclasses\u001b[0m\u001b[0;34m:\u001b[0m\u001b[0;34m\u001b[0m\u001b[0;34m\u001b[0m\u001b[0m\n\u001b[1;32m    452\u001b[0m             \u001b[0mclasses\u001b[0m \u001b[0;34m=\u001b[0m \u001b[0;34m[\u001b[0m\u001b[0;34m]\u001b[0m\u001b[0;34m\u001b[0m\u001b[0;34m\u001b[0m\u001b[0m\n\u001b[0;32m--> 453\u001b[0;31m             \u001b[0;32mfor\u001b[0m \u001b[0msubdir\u001b[0m \u001b[0;32min\u001b[0m \u001b[0msorted\u001b[0m\u001b[0;34m(\u001b[0m\u001b[0mos\u001b[0m\u001b[0;34m.\u001b[0m\u001b[0mlistdir\u001b[0m\u001b[0;34m(\u001b[0m\u001b[0mdirectory\u001b[0m\u001b[0;34m)\u001b[0m\u001b[0;34m)\u001b[0m\u001b[0;34m:\u001b[0m\u001b[0;34m\u001b[0m\u001b[0;34m\u001b[0m\u001b[0m\n\u001b[0m\u001b[1;32m    454\u001b[0m                 \u001b[0;32mif\u001b[0m \u001b[0mos\u001b[0m\u001b[0;34m.\u001b[0m\u001b[0mpath\u001b[0m\u001b[0;34m.\u001b[0m\u001b[0misdir\u001b[0m\u001b[0;34m(\u001b[0m\u001b[0mos\u001b[0m\u001b[0;34m.\u001b[0m\u001b[0mpath\u001b[0m\u001b[0;34m.\u001b[0m\u001b[0mjoin\u001b[0m\u001b[0;34m(\u001b[0m\u001b[0mdirectory\u001b[0m\u001b[0;34m,\u001b[0m \u001b[0msubdir\u001b[0m\u001b[0;34m)\u001b[0m\u001b[0;34m)\u001b[0m\u001b[0;34m:\u001b[0m\u001b[0;34m\u001b[0m\u001b[0;34m\u001b[0m\u001b[0m\n\u001b[1;32m    455\u001b[0m                     \u001b[0mclasses\u001b[0m\u001b[0;34m.\u001b[0m\u001b[0mappend\u001b[0m\u001b[0;34m(\u001b[0m\u001b[0msubdir\u001b[0m\u001b[0;34m)\u001b[0m\u001b[0;34m\u001b[0m\u001b[0;34m\u001b[0m\u001b[0m\n",
            "\u001b[0;31mFileNotFoundError\u001b[0m: [Errno 2] No such file or directory: '/content/drive/MyDrive/SI-GuidedProject-49403-1652770998/dataset/train'"
          ]
        }
      ]
    },
    {
      "cell_type": "code",
      "source": [
        "import os\n",
        "\n",
        "for root, dirs, files in os.walk(\"/content/drive/MyDrive\"):\n",
        "    print(root)\n"
      ],
      "metadata": {
        "id": "dM--o82kH1nW",
        "outputId": "a2eae155-25b6-4872-e9cd-087955636bef",
        "colab": {
          "base_uri": "https://localhost:8080/"
        }
      },
      "execution_count": 16,
      "outputs": [
        {
          "output_type": "stream",
          "name": "stdout",
          "text": [
            "/content/drive/MyDrive\n",
            "/content/drive/MyDrive/Certificates\n",
            "/content/drive/MyDrive/Colab Notebooks\n",
            "/content/drive/MyDrive/SI-GuidedProject-49403-1652770998-main\n",
            "/content/drive/MyDrive/SI-GuidedProject-49403-1652770998-main/dataset\n",
            "/content/drive/MyDrive/SI-GuidedProject-49403-1652770998-main/dataset/test\n",
            "/content/drive/MyDrive/SI-GuidedProject-49403-1652770998-main/dataset/test/Ship\n",
            "/content/drive/MyDrive/SI-GuidedProject-49403-1652770998-main/dataset/test/Iceberg\n",
            "/content/drive/MyDrive/SI-GuidedProject-49403-1652770998-main/dataset/train\n",
            "/content/drive/MyDrive/SI-GuidedProject-49403-1652770998-main/dataset/train/Iceberg\n",
            "/content/drive/MyDrive/SI-GuidedProject-49403-1652770998-main/dataset/train/Ship\n",
            "/content/drive/MyDrive/SI-GuidedProject-49403-1652770998-main/Flask\n",
            "/content/drive/MyDrive/SI-GuidedProject-49403-1652770998-main/Flask/__pycache__\n",
            "/content/drive/MyDrive/SI-GuidedProject-49403-1652770998-main/Flask/static\n",
            "/content/drive/MyDrive/SI-GuidedProject-49403-1652770998-main/Flask/static/images\n",
            "/content/drive/MyDrive/SI-GuidedProject-49403-1652770998-main/Flask/templates\n"
          ]
        }
      ]
    },
    {
      "cell_type": "code",
      "source": [
        "/content/drive/MyDrive/SI-GuidedProject-49403-1652770998-main/dataset/train\n"
      ],
      "metadata": {
        "id": "vsqaB538H9oh",
        "outputId": "f4c6968f-99e0-48c0-c902-46db3434930e",
        "colab": {
          "base_uri": "https://localhost:8080/",
          "height": 141
        }
      },
      "execution_count": 18,
      "outputs": [
        {
          "output_type": "error",
          "ename": "NameError",
          "evalue": "name 'content' is not defined",
          "traceback": [
            "\u001b[0;31m---------------------------------------------------------------------------\u001b[0m",
            "\u001b[0;31mNameError\u001b[0m                                 Traceback (most recent call last)",
            "\u001b[0;32m<ipython-input-18-5ca6293730c0>\u001b[0m in \u001b[0;36m<cell line: 0>\u001b[0;34m()\u001b[0m\n\u001b[0;32m----> 1\u001b[0;31m \u001b[0mcontent\u001b[0m\u001b[0;34m/\u001b[0m\u001b[0mdrive\u001b[0m\u001b[0;34m/\u001b[0m\u001b[0mMyDrive\u001b[0m\u001b[0;34m/\u001b[0m\u001b[0mSI\u001b[0m\u001b[0;34m-\u001b[0m\u001b[0mGuidedProject\u001b[0m\u001b[0;34m-\u001b[0m\u001b[0;36m49403\u001b[0m\u001b[0;34m-\u001b[0m\u001b[0;36m1652770998\u001b[0m\u001b[0;34m-\u001b[0m\u001b[0mmain\u001b[0m\u001b[0;34m/\u001b[0m\u001b[0mdataset\u001b[0m\u001b[0;34m/\u001b[0m\u001b[0mtrain\u001b[0m\u001b[0;34m(\u001b[0m\u001b[0;34m)\u001b[0m\u001b[0;34m\u001b[0m\u001b[0;34m\u001b[0m\u001b[0m\n\u001b[0m",
            "\u001b[0;31mNameError\u001b[0m: name 'content' is not defined"
          ]
        }
      ]
    },
    {
      "cell_type": "code",
      "source": [
        "from tensorflow.keras.preprocessing.image import ImageDataGenerator\n",
        "\n",
        "train_datagen = ImageDataGenerator(rescale=1./255)\n",
        "test_datagen = ImageDataGenerator(rescale=1./255)\n",
        "\n",
        "x_train = train_datagen.flow_from_directory(\n",
        "    \"/content/drive/MyDrive/SI-GuidedProject-49403-1652770998-main/dataset/train\",\n",
        "    target_size=(128, 128),\n",
        "    batch_size=4,\n",
        "    class_mode='binary'\n",
        ")\n",
        "\n",
        "x_test = test_datagen.flow_from_directory(\n",
        "    \"/content/drive/MyDrive/SI-GuidedProject-49403-1652770998-main/dataset/test\",\n",
        "    target_size=(128, 128),\n",
        "    batch_size=4,\n",
        "    class_mode='binary'\n",
        ")\n"
      ],
      "metadata": {
        "id": "dnlkoyu1I8Vc",
        "outputId": "0bc29978-1a8b-42a4-9b57-ffd9b7022a0c",
        "colab": {
          "base_uri": "https://localhost:8080/"
        }
      },
      "execution_count": 20,
      "outputs": [
        {
          "output_type": "stream",
          "name": "stdout",
          "text": [
            "Found 1284 images belonging to 2 classes.\n",
            "Found 320 images belonging to 2 classes.\n"
          ]
        }
      ]
    },
    {
      "cell_type": "code",
      "source": [
        "from tensorflow.keras.models import Sequential\n",
        "from tensorflow.keras.layers import Conv2D, MaxPooling2D, Flatten, Dense\n",
        "\n",
        "model = Sequential([\n",
        "    Conv2D(32, (3,3), activation='relu', input_shape=(128,128,3)),\n",
        "    MaxPooling2D(pool_size=(2,2)),\n",
        "\n",
        "    Conv2D(64, (3,3), activation='relu'),\n",
        "    MaxPooling2D(pool_size=(2,2)),\n",
        "\n",
        "    Flatten(),\n",
        "    Dense(128, activation='relu'),\n",
        "    Dense(1, activation='sigmoid')\n",
        "])\n",
        "\n",
        "model.compile(optimizer='adam', loss='binary_crossentropy', metrics=['accuracy'])\n",
        "\n",
        "# Start training!\n",
        "history = model.fit(x_train, validation_data=x_test, epochs=10)\n"
      ],
      "metadata": {
        "id": "FHPUlgQ-JJDr",
        "outputId": "f4af8d84-a1f5-4f45-d6bc-deb8be9f5039",
        "colab": {
          "base_uri": "https://localhost:8080/"
        }
      },
      "execution_count": 21,
      "outputs": [
        {
          "output_type": "stream",
          "name": "stderr",
          "text": [
            "/usr/local/lib/python3.11/dist-packages/keras/src/layers/convolutional/base_conv.py:107: UserWarning: Do not pass an `input_shape`/`input_dim` argument to a layer. When using Sequential models, prefer using an `Input(shape)` object as the first layer in the model instead.\n",
            "  super().__init__(activity_regularizer=activity_regularizer, **kwargs)\n",
            "/usr/local/lib/python3.11/dist-packages/keras/src/trainers/data_adapters/py_dataset_adapter.py:121: UserWarning: Your `PyDataset` class should call `super().__init__(**kwargs)` in its constructor. `**kwargs` can include `workers`, `use_multiprocessing`, `max_queue_size`. Do not pass these arguments to `fit()`, as they will be ignored.\n",
            "  self._warn_if_super_not_called()\n"
          ]
        },
        {
          "output_type": "stream",
          "name": "stdout",
          "text": [
            "Epoch 1/10\n",
            "\u001b[1m321/321\u001b[0m \u001b[32m━━━━━━━━━━━━━━━━━━━━\u001b[0m\u001b[37m\u001b[0m \u001b[1m455s\u001b[0m 1s/step - accuracy: 0.5194 - loss: 0.7266 - val_accuracy: 0.5000 - val_loss: 0.6916\n",
            "Epoch 2/10\n",
            "\u001b[1m321/321\u001b[0m \u001b[32m━━━━━━━━━━━━━━━━━━━━\u001b[0m\u001b[37m\u001b[0m \u001b[1m6s\u001b[0m 18ms/step - accuracy: 0.5637 - loss: 0.6890 - val_accuracy: 0.7312 - val_loss: 0.5928\n",
            "Epoch 3/10\n",
            "\u001b[1m321/321\u001b[0m \u001b[32m━━━━━━━━━━━━━━━━━━━━\u001b[0m\u001b[37m\u001b[0m \u001b[1m5s\u001b[0m 16ms/step - accuracy: 0.6240 - loss: 0.6214 - val_accuracy: 0.7406 - val_loss: 0.5164\n",
            "Epoch 4/10\n",
            "\u001b[1m321/321\u001b[0m \u001b[32m━━━━━━━━━━━━━━━━━━━━\u001b[0m\u001b[37m\u001b[0m \u001b[1m6s\u001b[0m 17ms/step - accuracy: 0.6909 - loss: 0.5555 - val_accuracy: 0.7469 - val_loss: 0.4611\n",
            "Epoch 5/10\n",
            "\u001b[1m321/321\u001b[0m \u001b[32m━━━━━━━━━━━━━━━━━━━━\u001b[0m\u001b[37m\u001b[0m \u001b[1m5s\u001b[0m 16ms/step - accuracy: 0.7652 - loss: 0.4559 - val_accuracy: 0.7969 - val_loss: 0.4265\n",
            "Epoch 6/10\n",
            "\u001b[1m321/321\u001b[0m \u001b[32m━━━━━━━━━━━━━━━━━━━━\u001b[0m\u001b[37m\u001b[0m \u001b[1m5s\u001b[0m 15ms/step - accuracy: 0.8081 - loss: 0.3867 - val_accuracy: 0.8156 - val_loss: 0.3926\n",
            "Epoch 7/10\n",
            "\u001b[1m321/321\u001b[0m \u001b[32m━━━━━━━━━━━━━━━━━━━━\u001b[0m\u001b[37m\u001b[0m \u001b[1m6s\u001b[0m 18ms/step - accuracy: 0.9129 - loss: 0.2340 - val_accuracy: 0.8313 - val_loss: 0.4069\n",
            "Epoch 8/10\n",
            "\u001b[1m321/321\u001b[0m \u001b[32m━━━━━━━━━━━━━━━━━━━━\u001b[0m\u001b[37m\u001b[0m \u001b[1m5s\u001b[0m 16ms/step - accuracy: 0.9577 - loss: 0.1322 - val_accuracy: 0.8000 - val_loss: 0.4420\n",
            "Epoch 9/10\n",
            "\u001b[1m321/321\u001b[0m \u001b[32m━━━━━━━━━━━━━━━━━━━━\u001b[0m\u001b[37m\u001b[0m \u001b[1m6s\u001b[0m 18ms/step - accuracy: 0.9817 - loss: 0.0636 - val_accuracy: 0.8062 - val_loss: 0.5953\n",
            "Epoch 10/10\n",
            "\u001b[1m321/321\u001b[0m \u001b[32m━━━━━━━━━━━━━━━━━━━━\u001b[0m\u001b[37m\u001b[0m \u001b[1m5s\u001b[0m 15ms/step - accuracy: 0.9975 - loss: 0.0145 - val_accuracy: 0.7906 - val_loss: 0.6846\n"
          ]
        }
      ]
    },
    {
      "cell_type": "code",
      "source": [
        "import os\n",
        "\n",
        "path = \"/content/drive/MyDrive/SI-GuidedProject-49403-1652770998-main/dataset/train\"\n",
        "\n",
        "# Check if path exists\n",
        "print(\"✅ Exists\" if os.path.exists(path) else \"❌ Not found\")\n",
        "\n",
        "# List subfolders\n",
        "print(\"Subfolders:\", os.listdir(path))\n"
      ],
      "metadata": {
        "id": "AOfCBLIUIxhC",
        "outputId": "0f444679-9c30-4d3f-d85a-2ca7a7b4db0f",
        "colab": {
          "base_uri": "https://localhost:8080/"
        }
      },
      "execution_count": 19,
      "outputs": [
        {
          "output_type": "stream",
          "name": "stdout",
          "text": [
            "✅ Exists\n",
            "Subfolders: ['Iceberg', 'Ship']\n"
          ]
        }
      ]
    }
  ],
  "metadata": {
    "accelerator": "GPU",
    "colab": {
      "name": "TrainNew.ipynb",
      "provenance": [],
      "include_colab_link": true
    },
    "kernelspec": {
      "display_name": "Python 3",
      "name": "python3"
    },
    "language_info": {
      "name": "python"
    }
  },
  "nbformat": 4,
  "nbformat_minor": 0
}